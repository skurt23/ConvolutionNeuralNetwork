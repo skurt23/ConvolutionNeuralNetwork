{
 "cells": [
  {
   "cell_type": "markdown",
   "metadata": {
    "collapsed": true
   },
   "source": [
    "# Image Classification\n",
    "In this project, you'll classify images from the [CIFAR-10 dataset](https://www.cs.toronto.edu/~kriz/cifar.html).  The dataset consists of airplanes, dogs, cats, and other objects. You'll preprocess the images, then train a convolutional neural network on all the samples. The images need to be normalized and the labels need to be one-hot encoded.  You'll get to apply what you learned and build a convolutional, max pooling, dropout, and fully connected layers.  At the end, you'll get to see your neural network's predictions on the sample images.\n",
    "## Get the Data\n",
    "Run the following cell to download the [CIFAR-10 dataset for python](https://www.cs.toronto.edu/~kriz/cifar-10-python.tar.gz)."
   ]
  },
  {
   "cell_type": "code",
   "execution_count": 1,
   "metadata": {
    "collapsed": false
   },
   "outputs": [
    {
     "name": "stdout",
     "output_type": "stream",
     "text": [
      "All files found!\n"
     ]
    }
   ],
   "source": [
    "\"\"\"\n",
    "DON'T MODIFY ANYTHING IN THIS CELL THAT IS BELOW THIS LINE\n",
    "\"\"\"\n",
    "from urllib.request import urlretrieve\n",
    "from os.path import isfile, isdir\n",
    "from tqdm import tqdm\n",
    "import problem_unittests as tests\n",
    "import tarfile\n",
    "\n",
    "cifar10_dataset_folder_path = 'cifar-10-batches-py'\n",
    "\n",
    "class DLProgress(tqdm):\n",
    "    last_block = 0\n",
    "\n",
    "    def hook(self, block_num=1, block_size=1, total_size=None):\n",
    "        self.total = total_size\n",
    "        self.update((block_num - self.last_block) * block_size)\n",
    "        self.last_block = block_num\n",
    "\n",
    "if not isfile('cifar-10-python.tar.gz'):\n",
    "    with DLProgress(unit='B', unit_scale=True, miniters=1, desc='CIFAR-10 Dataset') as pbar:\n",
    "        urlretrieve(\n",
    "            'https://www.cs.toronto.edu/~kriz/cifar-10-python.tar.gz',\n",
    "            'cifar-10-python.tar.gz',\n",
    "            pbar.hook)\n",
    "\n",
    "if not isdir(cifar10_dataset_folder_path):\n",
    "    with tarfile.open('cifar-10-python.tar.gz') as tar:\n",
    "        tar.extractall()\n",
    "        tar.close()\n",
    "\n",
    "\n",
    "tests.test_folder_path(cifar10_dataset_folder_path)"
   ]
  },
  {
   "cell_type": "markdown",
   "metadata": {},
   "source": [
    "## Explore the Data\n",
    "The dataset is broken into batches to prevent your machine from running out of memory.  The CIFAR-10 dataset consists of 5 batches, named `data_batch_1`, `data_batch_2`, etc.. Each batch contains the labels and images that are one of the following:\n",
    "* airplane\n",
    "* automobile\n",
    "* bird\n",
    "* cat\n",
    "* deer\n",
    "* dog\n",
    "* frog\n",
    "* horse\n",
    "* ship\n",
    "* truck\n",
    "\n",
    "Understanding a dataset is part of making predictions on the data.  Play around with the code cell below by changing the `batch_id` and `sample_id`. The `batch_id` is the id for a batch (1-5). The `sample_id` is the id for a image and label pair in the batch.\n",
    "\n",
    "Ask yourself \"What are all possible labels?\", \"What is the range of values for the image data?\", \"Are the labels in order or random?\".  Answers to questions like these will help you preprocess the data and end up with better predictions."
   ]
  },
  {
   "cell_type": "code",
   "execution_count": 2,
   "metadata": {
    "collapsed": false
   },
   "outputs": [
    {
     "name": "stdout",
     "output_type": "stream",
     "text": [
      "\n",
      "Stats of batch 2:\n",
      "Samples: 10000\n",
      "Label Counts: {0: 984, 1: 1007, 2: 1010, 3: 995, 4: 1010, 5: 988, 6: 1008, 7: 1026, 8: 987, 9: 985}\n",
      "First 20 Labels: [1, 6, 6, 8, 8, 3, 4, 6, 0, 6, 0, 3, 6, 6, 5, 4, 8, 3, 2, 6]\n",
      "\n",
      "Example of Image 1:\n",
      "Image - Min Value: 2 Max Value: 247\n",
      "Image - Shape: (32, 32, 3)\n",
      "Label - Label Id: 6 Name: frog\n"
     ]
    },
    {
     "data": {
      "image/png": "[encoded data removed]",
      "text/plain": [
       "<matplotlib.figure.Figure at 0x10905a2e8>"
      ]
     },
     "metadata": {
      "image/png": {
       "height": 250,
       "width": 253
      }
     },
     "output_type": "display_data"
    }
   ],
   "source": [
    "%matplotlib inline\n",
    "%config InlineBackend.figure_format = 'retina'\n",
    "\n",
    "import helper\n",
    "import numpy as np\n",
    "\n",
    "# Explore the dataset\n",
    "batch_id = 2\n",
    "sample_id = 1\n",
    "helper.display_stats(cifar10_dataset_folder_path, batch_id, sample_id)"
   ]
  },
  {
   "cell_type": "markdown",
   "metadata": {},
   "source": [
    "## Implement Preprocess Functions\n",
    "### Normalize\n",
    "In the cell below, implement the `normalize` function to take in image data, `x`, and return it as a normalized Numpy array. The values should be in the range of 0 to 1, inclusive.  The return object should be the same shape as `x`."
   ]
  },
  {
   "cell_type": "code",
   "execution_count": 3,
   "metadata": {
    "collapsed": false
   },
   "outputs": [
    {
     "name": "stdout",
     "output_type": "stream",
     "text": [
      "Tests Passed\n"
     ]
    }
   ],
   "source": [
    "def normalize(x):\n",
    "    \"\"\"\n",
    "    Normalize a list of sample image data in the range of 0 to 1\n",
    "    : x: List of image data.  The image shape is (32, 32, 3)\n",
    "    : return: Numpy array of normalize data\n",
    "    \"\"\"\n",
    "    # TODO: Implement Function\n",
    "    image_shape = (np.random.choice(range(1000)), 32, 32, 3)\n",
    "    image_numbers = np.random.choice(range(256), image_shape)\n",
    "    output = np.divide(x, 256)\n",
    "    return output\n",
    "\n",
    "\"\"\"\n",
    "DON'T MODIFY ANYTHING IN THIS CELL THAT IS BELOW THIS LINE\n",
    "\"\"\"\n",
    "tests.test_normalize(normalize)"
   ]
  },
  {
   "cell_type": "markdown",
   "metadata": {},
   "source": [
    "### One-hot encode\n",
    "Just like the previous code cell, you'll be implementing a function for preprocessing.  This time, you'll implement the `one_hot_encode` function. The input, `x`, are a list of labels.  Implement the function to return the list of labels as One-Hot encoded Numpy array.  The possible values for labels are 0 to 9. The one-hot encoding function should return the same encoding for each value between each call to `one_hot_encode`.  Make sure to save the map of encodings outside the function.\n",
    "\n",
    "Hint: Don't reinvent the wheel."
   ]
  },
  {
   "cell_type": "code",
   "execution_count": 4,
   "metadata": {
    "collapsed": false
   },
   "outputs": [
    {
     "name": "stdout",
     "output_type": "stream",
     "text": [
      "Tests Passed\n"
     ]
    }
   ],
   "source": [
    "from sklearn.preprocessing import LabelBinarizer\n",
    "\n",
    "def one_hot_encode(x):\n",
    "    \"\"\"\n",
    "    One hot encode a list of sample labels. Return a one-hot encoded vector for each label.\n",
    "    : x: List of sample Labels\n",
    "    : return: Numpy array of one-hot encoded labels\n",
    "    \"\"\"\n",
    "    output = np.zeros((len(x), 10))\n",
    "    output[np.arange(len(x)), x] = 1\n",
    "    return output\n",
    "\n",
    "\n",
    "\"\"\"\n",
    "DON'T MODIFY ANYTHING IN THIS CELL THAT IS BELOW THIS LINE\n",
    "\"\"\"\n",
    "tests.test_one_hot_encode(one_hot_encode)"
   ]
  },
  {
   "cell_type": "markdown",
   "metadata": {},
   "source": [
    "### Randomize Data\n",
    "As you saw from exploring the data above, the order of the samples are randomized.  It doesn't hurt to randomize it again, but you don't need to for this dataset."
   ]
  },
  {
   "cell_type": "markdown",
   "metadata": {},
   "source": [
    "## Preprocess all the data and save it\n",
    "Running the code cell below will preprocess all the CIFAR-10 data and save it to file. The code below also uses 10% of the training data for validation."
   ]
  },
  {
   "cell_type": "code",
   "execution_count": 5,
   "metadata": {
    "collapsed": false
   },
   "outputs": [],
   "source": [
    "\"\"\"\n",
    "DON'T MODIFY ANYTHING IN THIS CELL\n",
    "\"\"\"\n",
    "# Preprocess Training, Validation, and Testing Data\n",
    "helper.preprocess_and_save_data(cifar10_dataset_folder_path, normalize, one_hot_encode)"
   ]
  },
  {
   "cell_type": "markdown",
   "metadata": {},
   "source": [
    "# Check Point\n",
    "This is your first checkpoint.  If you ever decide to come back to this notebook or have to restart the notebook, you can start from here.  The preprocessed data has been saved to disk."
   ]
  },
  {
   "cell_type": "code",
   "execution_count": 6,
   "metadata": {
    "collapsed": true
   },
   "outputs": [],
   "source": [
    "\"\"\"\n",
    "DON'T MODIFY ANYTHING IN THIS CELL\n",
    "\"\"\"\n",
    "import pickle\n",
    "import problem_unittests as tests\n",
    "import helper\n",
    "\n",
    "# Load the Preprocessed Validation data\n",
    "valid_features, valid_labels = pickle.load(open('preprocess_validation.p', mode='rb'))"
   ]
  },
  {
   "cell_type": "markdown",
   "metadata": {},
   "source": [
    "## Build the network\n",
    "For the neural network, you'll build each layer into a function.  Most of the code you've seen has been outside of functions. To test your code more thoroughly, we require that you put each layer in a function.  This allows us to give you better feedback and test for simple mistakes using our unittests before you submit your project.\n",
    "\n",
    ">**Note:** If you're finding it hard to dedicate enough time for this course each week, we've provided a small shortcut to this part of the project. In the next couple of problems, you'll have the option to use classes from the [TensorFlow Layers](https://www.tensorflow.org/api_docs/python/tf/layers) or [TensorFlow Layers (contrib)](https://www.tensorflow.org/api_guides/python/contrib.layers) packages to build each layer, except the layers you build in the \"Convolutional and Max Pooling Layer\" section.  TF Layers is similar to Keras's and TFLearn's abstraction to layers, so it's easy to pickup.\n",
    "\n",
    ">However, if you would like to get the most out of this course, try to solve all the problems _without_ using anything from the TF Layers packages. You **can** still use classes from other packages that happen to have the same name as ones you find in TF Layers! For example, instead of using the TF Layers version of the `conv2d` class, [tf.layers.conv2d](https://www.tensorflow.org/api_docs/python/tf/layers/conv2d), you would want to use the TF Neural Network version of `conv2d`, [tf.nn.conv2d](https://www.tensorflow.org/api_docs/python/tf/nn/conv2d). \n",
    "\n",
    "Let's begin!\n",
    "\n",
    "### Input\n",
    "The neural network needs to read the image data, one-hot encoded labels, and dropout keep probability. Implement the following functions\n",
    "* Implement `neural_net_image_input`\n",
    " * Return a [TF Placeholder](https://www.tensorflow.org/api_docs/python/tf/placeholder)\n",
    " * Set the shape using `image_shape` with batch size set to `None`.\n",
    " * Name the TensorFlow placeholder \"x\" using the TensorFlow `name` parameter in the [TF Placeholder](https://www.tensorflow.org/api_docs/python/tf/placeholder).\n",
    "* Implement `neural_net_label_input`\n",
    " * Return a [TF Placeholder](https://www.tensorflow.org/api_docs/python/tf/placeholder)\n",
    " * Set the shape using `n_classes` with batch size set to `None`.\n",
    " * Name the TensorFlow placeholder \"y\" using the TensorFlow `name` parameter in the [TF Placeholder](https://www.tensorflow.org/api_docs/python/tf/placeholder).\n",
    "* Implement `neural_net_keep_prob_input`\n",
    " * Return a [TF Placeholder](https://www.tensorflow.org/api_docs/python/tf/placeholder) for dropout keep probability.\n",
    " * Name the TensorFlow placeholder \"keep_prob\" using the TensorFlow `name` parameter in the [TF Placeholder](https://www.tensorflow.org/api_docs/python/tf/placeholder).\n",
    "\n",
    "These names will be used at the end of the project to load your saved model.\n",
    "\n",
    "Note: `None` for shapes in TensorFlow allow for a dynamic size."
   ]
  },
  {
   "cell_type": "code",
   "execution_count": 7,
   "metadata": {
    "collapsed": false
   },
   "outputs": [
    {
     "name": "stdout",
     "output_type": "stream",
     "text": [
      "Image Input Tests Passed.\n",
      "Label Input Tests Passed.\n",
      "Keep Prob Tests Passed.\n"
     ]
    }
   ],
   "source": [
    "import tensorflow as tf\n",
    "\n",
    "batch_size = None\n",
    "\n",
    "def neural_net_image_input(image_shape):\n",
    "    \"\"\"\n",
    "    Return a Tensor for a bach of image input\n",
    "    : image_shape: Shape of the images\n",
    "    : return: Tensor for image input.\n",
    "    \"\"\"\n",
    "    # TODO: Implement Function\n",
    "    a,b,c = image_shape\n",
    "    x = tf.placeholder(tf.float32, shape=[None,a,b,c], name=\"x\")\n",
    "    return x\n",
    "\n",
    "\n",
    "def neural_net_label_input(n_classes):\n",
    "    \"\"\"\n",
    "    Return a Tensor for a batch of label input\n",
    "    : n_classes: Number of classes\n",
    "    : return: Tensor for label input.\n",
    "    \"\"\"\n",
    "    # TODO: Implement Function\n",
    "    y = tf.placeholder(tf.float32, shape=[None,n_classes], name=\"y\")\n",
    "    return y\n",
    "\n",
    "\n",
    "def neural_net_keep_prob_input():\n",
    "    \"\"\"\n",
    "    Return a Tensor for keep probability\n",
    "    : return: Tensor for keep probability.\n",
    "    \"\"\"\n",
    "    # TODO: Implement Function\n",
    "    keep_prob = tf.placeholder(tf.float32, name=\"keep_prob\")\n",
    "    return keep_prob\n",
    "\n",
    "\n",
    "\"\"\"\n",
    "DON'T MODIFY ANYTHING IN THIS CELL THAT IS BELOW THIS LINE\n",
    "\"\"\"\n",
    "tf.reset_default_graph()\n",
    "tests.test_nn_image_inputs(neural_net_image_input)\n",
    "tests.test_nn_label_inputs(neural_net_label_input)\n",
    "tests.test_nn_keep_prob_inputs(neural_net_keep_prob_input)"
   ]
  },
  {
   "cell_type": "markdown",
   "metadata": {},
   "source": [
    "### Convolution and Max Pooling Layer\n",
    "Convolution layers have a lot of success with images. For this code cell, you should implement the function `conv2d_maxpool` to apply convolution then max pooling:\n",
    "* Create the weight and bias using `conv_ksize`, `conv_num_outputs` and the shape of `x_tensor`.\n",
    "* Apply a convolution to `x_tensor` using weight and `conv_strides`.\n",
    " * We recommend you use same padding, but you're welcome to use any padding.\n",
    "* Add bias\n",
    "* Add a nonlinear activation to the convolution.\n",
    "* Apply Max Pooling using `pool_ksize` and `pool_strides`.\n",
    " * We recommend you use same padding, but you're welcome to use any padding.\n",
    "\n",
    "**Note:** You **can't** use [TensorFlow Layers](https://www.tensorflow.org/api_docs/python/tf/layers) or [TensorFlow Layers (contrib)](https://www.tensorflow.org/api_guides/python/contrib.layers) for **this** layer, but you can still use TensorFlow's [Neural Network](https://www.tensorflow.org/api_docs/python/tf/nn) package. You may still use the shortcut option for all the **other** layers."
   ]
  },
  {
   "cell_type": "code",
   "execution_count": 8,
   "metadata": {
    "collapsed": false
   },
   "outputs": [
    {
     "name": "stdout",
     "output_type": "stream",
     "text": [
      "Tests Passed\n"
     ]
    }
   ],
   "source": [
    "def conv2d_maxpool(x_tensor, conv_num_outputs, conv_ksize, conv_strides, pool_ksize, pool_strides):\n",
    "    \"\"\"\n",
    "    Apply convolution then max pooling to x_tensor\n",
    "    :param x_tensor: TensorFlow Tensor\n",
    "    :param conv_num_outputs: Number of outputs for the convolutional layer\n",
    "    :param conv_ksize: kernal size 2-D Tuple for the convolutional layer\n",
    "    :param conv_strides: Stride 2-D Tuple for convolution\n",
    "    :param pool_ksize: kernal size 2-D Tuple for pool\n",
    "    :param pool_strides: Stride 2-D Tuple for pool\n",
    "    : return: A tensor that represents convolution and max pooling of x_tensor\n",
    "    \"\"\"\n",
    "    # TODO: Implement Function\n",
    "    \n",
    "    input_height=conv_ksize[0]\n",
    "    input_width=conv_ksize[1]\n",
    "    input_depth=int(x_tensor.shape[3])\n",
    "    \n",
    "    filter_weights = tf.Variable(tf.random_normal([input_height, input_width, input_depth, conv_num_outputs], stddev=0.1))\n",
    "    filter_bias = tf.Variable(tf.random_normal([conv_num_outputs]))\n",
    "    strides = [1,conv_strides[0],conv_strides[1],1]\n",
    "    padding = 'SAME'\n",
    "    conv2d = tf.nn.conv2d(x_tensor, filter_weights, strides, padding)\n",
    "    bias = tf.nn.bias_add(conv2d, filter_bias)\n",
    "    relu = tf.nn.relu(bias)\n",
    "    return maxpool(relu, pool_ksize, pool_strides)\n",
    "    \n",
    "\n",
    "def maxpool(input, ksize, kstrides):\n",
    "    size = [1, ksize[0], ksize[1], 1]\n",
    "    strides = [1, kstrides[0], kstrides[1], 1]\n",
    "    padding ='SAME'\n",
    "    return tf.nn.max_pool(input, size, strides, padding)\n",
    "\n",
    "\"\"\"\n",
    "DON'T MODIFY ANYTHING IN THIS CELL THAT IS BELOW THIS LINE\n",
    "\"\"\"\n",
    "tests.test_con_pool(conv2d_maxpool)"
   ]
  },
  {
   "cell_type": "markdown",
   "metadata": {},
   "source": [
    "### Flatten Layer\n",
    "Implement the `flatten` function to change the dimension of `x_tensor` from a 4-D tensor to a 2-D tensor.  The output should be the shape (*Batch Size*, *Flattened Image Size*). Shortcut option: you can use classes from the [TensorFlow Layers](https://www.tensorflow.org/api_docs/python/tf/layers) or [TensorFlow Layers (contrib)](https://www.tensorflow.org/api_guides/python/contrib.layers) packages for this layer. For more of a challenge, only use other TensorFlow packages."
   ]
  },
  {
   "cell_type": "code",
   "execution_count": 9,
   "metadata": {
    "collapsed": false
   },
   "outputs": [
    {
     "name": "stdout",
     "output_type": "stream",
     "text": [
      "Tests Passed\n"
     ]
    }
   ],
   "source": [
    "def flatten(x_tensor):\n",
    "    \"\"\"\n",
    "    Flatten x_tensor to (Batch Size, Flattened Image Size)\n",
    "    : x_tensor: A tensor of size (Batch Size, ...), where ... are the image dimensions.\n",
    "    : return: A tensor of size (Batch Size, Flattened Image Size).\n",
    "    \"\"\"\n",
    "    # TODO: Implement Function\n",
    "    shape = x_tensor.shape.as_list();\n",
    "    dim = np.prod(shape[1:])  \n",
    "    output = tf.reshape(x_tensor, [-1, dim])\n",
    "    return output\n",
    "\n",
    "\n",
    "\"\"\"\n",
    "DON'T MODIFY ANYTHING IN THIS CELL THAT IS BELOW THIS LINE\n",
    "\"\"\"\n",
    "tests.test_flatten(flatten)"
   ]
  },
  {
   "cell_type": "markdown",
   "metadata": {},
   "source": [
    "### Fully-Connected Layer\n",
    "Implement the `fully_conn` function to apply a fully connected layer to `x_tensor` with the shape (*Batch Size*, *num_outputs*). Shortcut option: you can use classes from the [TensorFlow Layers](https://www.tensorflow.org/api_docs/python/tf/layers) or [TensorFlow Layers (contrib)](https://www.tensorflow.org/api_guides/python/contrib.layers) packages for this layer. For more of a challenge, only use other TensorFlow packages."
   ]
  },
  {
   "cell_type": "code",
   "execution_count": 10,
   "metadata": {
    "collapsed": false
   },
   "outputs": [
    {
     "name": "stdout",
     "output_type": "stream",
     "text": [
      "Tests Passed\n"
     ]
    }
   ],
   "source": [
    "def fully_conn(x_tensor, num_outputs):\n",
    "    \"\"\"\n",
    "    Apply a fully connected layer to x_tensor using weight and bias\n",
    "    : x_tensor: A 2-D tensor where the first dimension is batch size.\n",
    "    : num_outputs: The number of output that the new tensor should be.\n",
    "    : return: A 2-D tensor where the second dimension is num_outputs.\n",
    "    \"\"\"\n",
    "    # TODO: Implement Function\n",
    "    size = x_tensor.shape.as_list()[1]\n",
    "    weights = tf.Variable(tf.truncated_normal([size, num_outputs], stddev=0.1))\n",
    "    #print(str(datasize))\n",
    "   \n",
    "    #W = tf.placeholder(\"float32\", [x_tensor.shape[1], num_outputs])\n",
    "    bias = tf.Variable(tf.zeros(num_outputs))\n",
    "    output = tf.add(tf.matmul(x_tensor, weights), bias)\n",
    "    output = tf.nn.relu(output)\n",
    "    return output\n",
    "\n",
    "\n",
    "\"\"\"\n",
    "DON'T MODIFY ANYTHING IN THIS CELL THAT IS BELOW THIS LINE\n",
    "\"\"\"\n",
    "tests.test_fully_conn(fully_conn)"
   ]
  },
  {
   "cell_type": "markdown",
   "metadata": {},
   "source": [
    "### Output Layer\n",
    "Implement the `output` function to apply a fully connected layer to `x_tensor` with the shape (*Batch Size*, *num_outputs*). Shortcut option: you can use classes from the [TensorFlow Layers](https://www.tensorflow.org/api_docs/python/tf/layers) or [TensorFlow Layers (contrib)](https://www.tensorflow.org/api_guides/python/contrib.layers) packages for this layer. For more of a challenge, only use other TensorFlow packages.\n",
    "\n",
    "**Note:** Activation, softmax, or cross entropy should **not** be applied to this."
   ]
  },
  {
   "cell_type": "code",
   "execution_count": 11,
   "metadata": {
    "collapsed": false
   },
   "outputs": [
    {
     "name": "stdout",
     "output_type": "stream",
     "text": [
      "Tests Passed\n"
     ]
    }
   ],
   "source": [
    "def output(x_tensor, num_outputs):\n",
    "    \"\"\"\n",
    "    Apply a output layer to x_tensor using weight and bias\n",
    "    : x_tensor: A 2-D tensor where the first dimension is batch size.\n",
    "    : num_outputs: The number of output that the new tensor should be.\n",
    "    : return: A 2-D tensor where the second dimension is num_outputs.\n",
    "    \"\"\"\n",
    "    # TODO: Implement Function\n",
    "    size = x_tensor.shape.as_list()[1]\n",
    "    weights = tf.Variable(tf.truncated_normal([size, num_outputs]))\n",
    "    bias = tf.Variable(tf.zeros(num_outputs))\n",
    "    output = tf.add(tf.matmul(x_tensor, weights), bias)\n",
    "    return output\n",
    "\n",
    "\n",
    "\"\"\"\n",
    "DON'T MODIFY ANYTHING IN THIS CELL THAT IS BELOW THIS LINE\n",
    "\"\"\"\n",
    "tests.test_output(output)"
   ]
  },
  {
   "cell_type": "markdown",
   "metadata": {},
   "source": [
    "### Create Convolutional Model\n",
    "Implement the function `conv_net` to create a convolutional neural network model. The function takes in a batch of images, `x`, and outputs logits.  Use the layers you created above to create this model:\n",
    "\n",
    "* Apply 1, 2, or 3 Convolution and Max Pool layers\n",
    "* Apply a Flatten Layer\n",
    "* Apply 1, 2, or 3 Fully Connected Layers\n",
    "* Apply an Output Layer\n",
    "* Return the output\n",
    "* Apply [TensorFlow's Dropout](https://www.tensorflow.org/api_docs/python/tf/nn/dropout) to one or more layers in the model using `keep_prob`. "
   ]
  },
  {
   "cell_type": "code",
   "execution_count": 12,
   "metadata": {
    "collapsed": false
   },
   "outputs": [
    {
     "name": "stdout",
     "output_type": "stream",
     "text": [
      "Neural Network Built!\n"
     ]
    }
   ],
   "source": [
    "def conv_net(x, keep_prob):\n",
    "    \"\"\"\n",
    "    Create a convolutional neural network model\n",
    "    : x: Placeholder tensor that holds image data.\n",
    "    : keep_prob: Placeholder tensor that hold dropout keep probability.\n",
    "    : return: Tensor that represents logits\n",
    "    \"\"\"\n",
    "    \n",
    "    conv_ksize = (4, 4)\n",
    "    conv_strides = (2, 2)\n",
    "    pool_ksize = (2, 2)\n",
    "    pool_strides = (2, 2)\n",
    "    \n",
    "    \n",
    "    conv_num_outputs_1=64\n",
    "    conv = conv2d_maxpool(x, conv_num_outputs_1, conv_ksize, conv_strides, pool_ksize, pool_strides)\n",
    "    \n",
    "    \n",
    "    conv_ksize_2 = (2, 2)\n",
    "    conv_strides_2 = (1, 1)\n",
    "    pool_ksize_2 = (2, 2)\n",
    "    pool_strides_2 = (2, 2)\n",
    "    \n",
    "    \n",
    "    conv_num_outputs_2=128\n",
    "    conv = conv2d_maxpool(conv, conv_num_outputs_2, conv_ksize_2, conv_strides_2, pool_ksize_2, pool_strides_2)\n",
    "    \n",
    "    conv_ksize_2 = (2, 2)\n",
    "    conv_strides_2 = (2, 2)\n",
    "    pool_ksize_2 = (2, 2)\n",
    "    pool_strides_2 = (2, 2)\n",
    "    \n",
    "    conv_num_outputs_3=256\n",
    "    conv = conv2d_maxpool(conv, conv_num_outputs_3, conv_ksize, conv_strides, pool_ksize, pool_strides)\n",
    "    \n",
    "    flat= flatten(conv)\n",
    "   \n",
    "    num_outputs_1 = 256\n",
    "    fully = fully_conn(flat, num_outputs_1)\n",
    "    fully = tf.nn.dropout(fully, keep_prob)\n",
    "    \n",
    "    num_outputs_out = 10\n",
    "    model= output(fully, num_outputs_out)\n",
    "\n",
    "    return model\n",
    "\n",
    "\"\"\"\n",
    "DON'T MODIFY ANYTHING IN THIS CELL THAT IS BELOW THIS LINE\n",
    "\"\"\"\n",
    "\n",
    "##############################\n",
    "## Build the Neural Network ##\n",
    "##############################\n",
    "\n",
    "# Remove previous weights, bias, inputs, etc..\n",
    "tf.reset_default_graph()\n",
    "\n",
    "# Inputs\n",
    "x = neural_net_image_input((32, 32, 3))\n",
    "y = neural_net_label_input(10)\n",
    "keep_prob = neural_net_keep_prob_input()\n",
    "\n",
    "# Model\n",
    "logits = conv_net(x, keep_prob)\n",
    "\n",
    "# Name logits Tensor, so that is can be loaded from disk after training\n",
    "logits = tf.identity(logits, name='logits')\n",
    "\n",
    "# Loss and Optimizer\n",
    "cost = tf.reduce_mean(tf.nn.softmax_cross_entropy_with_logits(logits=logits, labels=y))\n",
    "optimizer = tf.train.AdamOptimizer().minimize(cost)\n",
    "\n",
    "# Accuracy\n",
    "correct_pred = tf.equal(tf.argmax(logits, 1), tf.argmax(y, 1))\n",
    "accuracy = tf.reduce_mean(tf.cast(correct_pred, tf.float32), name='accuracy')\n",
    "\n",
    "tests.test_conv_net(conv_net)"
   ]
  },
  {
   "cell_type": "markdown",
   "metadata": {},
   "source": [
    "## Train the Neural Network\n",
    "### Single Optimization\n",
    "Implement the function `train_neural_network` to do a single optimization.  The optimization should use `optimizer` to optimize in `session` with a `feed_dict` of the following:\n",
    "* `x` for image input\n",
    "* `y` for labels\n",
    "* `keep_prob` for keep probability for dropout\n",
    "\n",
    "This function will be called for each batch, so `tf.global_variables_initializer()` has already been called.\n",
    "\n",
    "Note: Nothing needs to be returned. This function is only optimizing the neural network."
   ]
  },
  {
   "cell_type": "code",
   "execution_count": 13,
   "metadata": {
    "collapsed": false
   },
   "outputs": [
    {
     "name": "stdout",
     "output_type": "stream",
     "text": [
      "Tests Passed\n"
     ]
    }
   ],
   "source": [
    "def train_neural_network(session, optimizer, keep_probability, feature_batch, label_batch):\n",
    "    \"\"\"\n",
    "    Optimize the session on a batch of images and labels\n",
    "    : session: Current TensorFlow session\n",
    "    : optimizer: TensorFlow optimizer function\n",
    "    : keep_probability: keep probability\n",
    "    : feature_batch: Batch of Numpy image data\n",
    "    : label_batch: Batch of Numpy label data\n",
    "    \"\"\"\n",
    "    # TODO: Implement Function\n",
    "    session.run(optimizer, feed_dict={x: feature_batch,y: label_batch,keep_prob: keep_probability})\n",
    "    \n",
    "\n",
    "\"\"\"\n",
    "DON'T MODIFY ANYTHING IN THIS CELL THAT IS BELOW THIS LINE\n",
    "\"\"\"\n",
    "tests.test_train_nn(train_neural_network)"
   ]
  },
  {
   "cell_type": "markdown",
   "metadata": {},
   "source": [
    "### Show Stats\n",
    "Implement the function `print_stats` to print loss and validation accuracy.  Use the global variables `valid_features` and `valid_labels` to calculate validation accuracy.  Use a keep probability of `1.0` to calculate the loss and validation accuracy."
   ]
  },
  {
   "cell_type": "code",
   "execution_count": 14,
   "metadata": {
    "collapsed": false
   },
   "outputs": [],
   "source": [
    "def print_stats(session, feature_batch, label_batch, cost, accuracy):\n",
    "    \"\"\"\n",
    "    Print information about loss and validation accuracy\n",
    "    : session: Current TensorFlow session\n",
    "    : feature_batch: Batch of Numpy image data\n",
    "    : label_batch: Batch of Numpy label data\n",
    "    : cost: TensorFlow cost function\n",
    "    : accuracy: TensorFlow accuracy function\n",
    "    \"\"\"\n",
    "    # TODO: Implement Function\n",
    "    loss = session.run(cost, feed_dict={x: feature_batch,y: label_batch,keep_prob: keep_probability})\n",
    "   \n",
    "    valid_acc = session.run(accuracy, feed_dict={x: feature_batch,y: label_batch,keep_prob: keep_probability})\n",
    "   \n",
    "    print('Loss: {:>10.4f} Validation Accuracy: {:.6f}'.format(loss,valid_acc))\n",
    "   "
   ]
  },
  {
   "cell_type": "markdown",
   "metadata": {},
   "source": [
    "### Hyperparameters\n",
    "Tune the following parameters:\n",
    "* Set `epochs` to the number of iterations until the network stops learning or start overfitting\n",
    "* Set `batch_size` to the highest number that your machine has memory for.  Most people set them to common sizes of memory:\n",
    " * 64\n",
    " * 128\n",
    " * 256\n",
    " * ...\n",
    "* Set `keep_probability` to the probability of keeping a node using dropout"
   ]
  },
  {
   "cell_type": "code",
   "execution_count": 15,
   "metadata": {
    "collapsed": true
   },
   "outputs": [],
   "source": [
    "# TODO: Tune Parameters\n",
    "epochs = 80\n",
    "batch_size = 512\n",
    "keep_probability = 0.5"
   ]
  },
  {
   "cell_type": "markdown",
   "metadata": {},
   "source": [
    "### Train on a Single CIFAR-10 Batch\n",
    "Instead of training the neural network on all the CIFAR-10 batches of data, let's use a single batch. This should save time while you iterate on the model to get a better accuracy.  Once the final validation accuracy is 50% or greater, run the model on all the data in the next section."
   ]
  },
  {
   "cell_type": "code",
   "execution_count": 16,
   "metadata": {
    "collapsed": false
   },
   "outputs": [
    {
     "name": "stdout",
     "output_type": "stream",
     "text": [
      "Checking the Training on a Single Batch...\n",
      "Epoch  1, CIFAR-10 Batch 1:  Loss:     4.4100 Validation Accuracy: 0.121622\n",
      "Epoch  2, CIFAR-10 Batch 1:  Loss:     2.2822 Validation Accuracy: 0.118243\n",
      "Epoch  3, CIFAR-10 Batch 1:  Loss:     2.2760 Validation Accuracy: 0.162162\n",
      "Epoch  4, CIFAR-10 Batch 1:  Loss:     2.2403 Validation Accuracy: 0.155405\n",
      "Epoch  5, CIFAR-10 Batch 1:  Loss:     2.2591 Validation Accuracy: 0.138514\n",
      "Epoch  6, CIFAR-10 Batch 1:  Loss:     2.2498 Validation Accuracy: 0.162162\n",
      "Epoch  7, CIFAR-10 Batch 1:  Loss:     2.1990 Validation Accuracy: 0.209459\n",
      "Epoch  8, CIFAR-10 Batch 1:  Loss:     2.2382 Validation Accuracy: 0.199324\n",
      "Epoch  9, CIFAR-10 Batch 1:  Loss:     2.2312 Validation Accuracy: 0.168919\n",
      "Epoch 10, CIFAR-10 Batch 1:  Loss:     2.1449 Validation Accuracy: 0.179054\n",
      "Epoch 11, CIFAR-10 Batch 1:  Loss:     2.2216 Validation Accuracy: 0.175676\n",
      "Epoch 12, CIFAR-10 Batch 1:  Loss:     2.1393 Validation Accuracy: 0.165541\n",
      "Epoch 13, CIFAR-10 Batch 1:  Loss:     2.1260 Validation Accuracy: 0.209459\n",
      "Epoch 14, CIFAR-10 Batch 1:  Loss:     2.1493 Validation Accuracy: 0.202703\n",
      "Epoch 15, CIFAR-10 Batch 1:  Loss:     2.1039 Validation Accuracy: 0.189189\n",
      "Epoch 16, CIFAR-10 Batch 1:  Loss:     2.1200 Validation Accuracy: 0.219595\n",
      "Epoch 17, CIFAR-10 Batch 1:  Loss:     2.0972 Validation Accuracy: 0.246622\n",
      "Epoch 18, CIFAR-10 Batch 1:  Loss:     2.0972 Validation Accuracy: 0.239865\n",
      "Epoch 19, CIFAR-10 Batch 1:  Loss:     2.1351 Validation Accuracy: 0.222973\n",
      "Epoch 20, CIFAR-10 Batch 1:  Loss:     2.0809 Validation Accuracy: 0.270270\n",
      "Epoch 21, CIFAR-10 Batch 1:  Loss:     2.0246 Validation Accuracy: 0.219595\n",
      "Epoch 22, CIFAR-10 Batch 1:  Loss:     2.0185 Validation Accuracy: 0.253378\n",
      "Epoch 23, CIFAR-10 Batch 1:  Loss:     1.9993 Validation Accuracy: 0.263514\n",
      "Epoch 24, CIFAR-10 Batch 1:  Loss:     2.0102 Validation Accuracy: 0.310811\n",
      "Epoch 25, CIFAR-10 Batch 1:  Loss:     1.9716 Validation Accuracy: 0.233108\n",
      "Epoch 26, CIFAR-10 Batch 1:  Loss:     2.0159 Validation Accuracy: 0.290541\n",
      "Epoch 27, CIFAR-10 Batch 1:  Loss:     1.9197 Validation Accuracy: 0.290541\n",
      "Epoch 28, CIFAR-10 Batch 1:  Loss:     1.9589 Validation Accuracy: 0.337838\n",
      "Epoch 29, CIFAR-10 Batch 1:  Loss:     1.9699 Validation Accuracy: 0.304054\n",
      "Epoch 30, CIFAR-10 Batch 1:  Loss:     1.9263 Validation Accuracy: 0.324324\n",
      "Epoch 31, CIFAR-10 Batch 1:  Loss:     1.9309 Validation Accuracy: 0.327703\n",
      "Epoch 32, CIFAR-10 Batch 1:  Loss:     1.8506 Validation Accuracy: 0.287162\n",
      "Epoch 33, CIFAR-10 Batch 1:  Loss:     1.7958 Validation Accuracy: 0.351351\n",
      "Epoch 34, CIFAR-10 Batch 1:  Loss:     1.8992 Validation Accuracy: 0.314189\n",
      "Epoch 35, CIFAR-10 Batch 1:  Loss:     1.8636 Validation Accuracy: 0.320946\n",
      "Epoch 36, CIFAR-10 Batch 1:  Loss:     1.8364 Validation Accuracy: 0.307432\n",
      "Epoch 37, CIFAR-10 Batch 1:  Loss:     1.8313 Validation Accuracy: 0.337838\n",
      "Epoch 38, CIFAR-10 Batch 1:  Loss:     1.7499 Validation Accuracy: 0.381757\n",
      "Epoch 39, CIFAR-10 Batch 1:  Loss:     1.8236 Validation Accuracy: 0.341216\n",
      "Epoch 40, CIFAR-10 Batch 1:  Loss:     1.7773 Validation Accuracy: 0.364865\n",
      "Epoch 41, CIFAR-10 Batch 1:  Loss:     1.7364 Validation Accuracy: 0.371622\n",
      "Epoch 42, CIFAR-10 Batch 1:  Loss:     1.7840 Validation Accuracy: 0.324324\n",
      "Epoch 43, CIFAR-10 Batch 1:  Loss:     1.6820 Validation Accuracy: 0.402027\n",
      "Epoch 44, CIFAR-10 Batch 1:  Loss:     1.6829 Validation Accuracy: 0.371622\n",
      "Epoch 45, CIFAR-10 Batch 1:  Loss:     1.7016 Validation Accuracy: 0.402027\n",
      "Epoch 46, CIFAR-10 Batch 1:  Loss:     1.7166 Validation Accuracy: 0.415541\n",
      "Epoch 47, CIFAR-10 Batch 1:  Loss:     1.6031 Validation Accuracy: 0.405405\n",
      "Epoch 48, CIFAR-10 Batch 1:  Loss:     1.6366 Validation Accuracy: 0.398649\n",
      "Epoch 49, CIFAR-10 Batch 1:  Loss:     1.5785 Validation Accuracy: 0.358108\n",
      "Epoch 50, CIFAR-10 Batch 1:  Loss:     1.5919 Validation Accuracy: 0.429054\n",
      "Epoch 51, CIFAR-10 Batch 1:  Loss:     1.5942 Validation Accuracy: 0.429054\n",
      "Epoch 52, CIFAR-10 Batch 1:  Loss:     1.5759 Validation Accuracy: 0.364865\n",
      "Epoch 53, CIFAR-10 Batch 1:  Loss:     1.6123 Validation Accuracy: 0.415541\n",
      "Epoch 54, CIFAR-10 Batch 1:  Loss:     1.5763 Validation Accuracy: 0.418919\n",
      "Epoch 55, CIFAR-10 Batch 1:  Loss:     1.5303 Validation Accuracy: 0.432432\n",
      "Epoch 56, CIFAR-10 Batch 1:  Loss:     1.5322 Validation Accuracy: 0.445946\n",
      "Epoch 57, CIFAR-10 Batch 1:  Loss:     1.5329 Validation Accuracy: 0.422297\n",
      "Epoch 58, CIFAR-10 Batch 1:  Loss:     1.5126 Validation Accuracy: 0.449324\n",
      "Epoch 59, CIFAR-10 Batch 1:  Loss:     1.4500 Validation Accuracy: 0.466216\n",
      "Epoch 60, CIFAR-10 Batch 1:  Loss:     1.5077 Validation Accuracy: 0.422297\n",
      "Epoch 61, CIFAR-10 Batch 1:  Loss:     1.4620 Validation Accuracy: 0.425676\n",
      "Epoch 62, CIFAR-10 Batch 1:  Loss:     1.4506 Validation Accuracy: 0.466216\n",
      "Epoch 63, CIFAR-10 Batch 1:  Loss:     1.4817 Validation Accuracy: 0.445946\n",
      "Epoch 64, CIFAR-10 Batch 1:  Loss:     1.4331 Validation Accuracy: 0.456081\n",
      "Epoch 65, CIFAR-10 Batch 1:  Loss:     1.4341 Validation Accuracy: 0.449324\n",
      "Epoch 66, CIFAR-10 Batch 1:  Loss:     1.5017 Validation Accuracy: 0.452703\n",
      "Epoch 67, CIFAR-10 Batch 1:  Loss:     1.4132 Validation Accuracy: 0.506757\n",
      "Epoch 68, CIFAR-10 Batch 1:  Loss:     1.3552 Validation Accuracy: 0.476351\n",
      "Epoch 69, CIFAR-10 Batch 1:  Loss:     1.3416 Validation Accuracy: 0.476351\n",
      "Epoch 70, CIFAR-10 Batch 1:  Loss:     1.3434 Validation Accuracy: 0.479730\n",
      "Epoch 71, CIFAR-10 Batch 1:  Loss:     1.3781 Validation Accuracy: 0.483108\n",
      "Epoch 72, CIFAR-10 Batch 1:  Loss:     1.3565 Validation Accuracy: 0.496622\n",
      "Epoch 73, CIFAR-10 Batch 1:  Loss:     1.3469 Validation Accuracy: 0.483108\n",
      "Epoch 74, CIFAR-10 Batch 1:  Loss:     1.3069 Validation Accuracy: 0.527027\n",
      "Epoch 75, CIFAR-10 Batch 1:  Loss:     1.2901 Validation Accuracy: 0.476351\n",
      "Epoch 76, CIFAR-10 Batch 1:  Loss:     1.2600 Validation Accuracy: 0.527027\n",
      "Epoch 77, CIFAR-10 Batch 1:  Loss:     1.3283 Validation Accuracy: 0.503378\n",
      "Epoch 78, CIFAR-10 Batch 1:  Loss:     1.2511 Validation Accuracy: 0.567568\n",
      "Epoch 79, CIFAR-10 Batch 1:  Loss:     1.2709 Validation Accuracy: 0.557432\n",
      "Epoch 80, CIFAR-10 Batch 1:  Loss:     1.3163 Validation Accuracy: 0.570946\n"
     ]
    }
   ],
   "source": [
    "\"\"\"\n",
    "DON'T MODIFY ANYTHING IN THIS CELL\n",
    "\"\"\"\n",
    "print('Checking the Training on a Single Batch...')\n",
    "with tf.Session() as sess:\n",
    "    # Initializing the variables\n",
    "    sess.run(tf.global_variables_initializer())\n",
    "    \n",
    "    # Training cycle\n",
    "    for epoch in range(epochs):\n",
    "        batch_i = 1\n",
    "        for batch_features, batch_labels in helper.load_preprocess_training_batch(batch_i, batch_size):\n",
    "            train_neural_network(sess, optimizer, keep_probability, batch_features, batch_labels)\n",
    "        print('Epoch {:>2}, CIFAR-10 Batch {}:  '.format(epoch + 1, batch_i), end='')\n",
    "        print_stats(sess, batch_features, batch_labels, cost, accuracy)"
   ]
  },
  {
   "cell_type": "markdown",
   "metadata": {},
   "source": [
    "### Fully Train the Model\n",
    "Now that you got a good accuracy with a single CIFAR-10 batch, try it with all five batches."
   ]
  },
  {
   "cell_type": "code",
   "execution_count": 18,
   "metadata": {
    "collapsed": false
   },
   "outputs": [
    {
     "name": "stdout",
     "output_type": "stream",
     "text": [
      "Training...\n",
      "Epoch  1, CIFAR-10 Batch 1:  Loss:     3.3717 Validation Accuracy: 0.121622\n",
      "Epoch  1, CIFAR-10 Batch 2:  Loss:     2.2625 Validation Accuracy: 0.114865\n",
      "Epoch  1, CIFAR-10 Batch 3:  Loss:     2.2160 Validation Accuracy: 0.179054\n",
      "Epoch  1, CIFAR-10 Batch 4:  Loss:     2.2314 Validation Accuracy: 0.179054\n",
      "Epoch  1, CIFAR-10 Batch 5:  Loss:     2.2407 Validation Accuracy: 0.185811\n",
      "Epoch  2, CIFAR-10 Batch 1:  Loss:     2.2440 Validation Accuracy: 0.152027\n",
      "Epoch  2, CIFAR-10 Batch 2:  Loss:     2.1751 Validation Accuracy: 0.172297\n",
      "Epoch  2, CIFAR-10 Batch 3:  Loss:     2.1909 Validation Accuracy: 0.175676\n",
      "Epoch  2, CIFAR-10 Batch 4:  Loss:     2.1587 Validation Accuracy: 0.168919\n",
      "Epoch  2, CIFAR-10 Batch 5:  Loss:     2.2065 Validation Accuracy: 0.182432\n",
      "Epoch  3, CIFAR-10 Batch 1:  Loss:     2.1835 Validation Accuracy: 0.175676\n",
      "Epoch  3, CIFAR-10 Batch 2:  Loss:     2.1576 Validation Accuracy: 0.158784\n",
      "Epoch  3, CIFAR-10 Batch 3:  Loss:     2.1584 Validation Accuracy: 0.195946\n",
      "Epoch  3, CIFAR-10 Batch 4:  Loss:     2.1623 Validation Accuracy: 0.206081\n",
      "Epoch  3, CIFAR-10 Batch 5:  Loss:     2.1847 Validation Accuracy: 0.195946\n",
      "Epoch  4, CIFAR-10 Batch 1:  Loss:     2.1968 Validation Accuracy: 0.195946\n",
      "Epoch  4, CIFAR-10 Batch 2:  Loss:     2.1010 Validation Accuracy: 0.189189\n",
      "Epoch  4, CIFAR-10 Batch 3:  Loss:     2.1259 Validation Accuracy: 0.229730\n",
      "Epoch  4, CIFAR-10 Batch 4:  Loss:     2.0767 Validation Accuracy: 0.206081\n",
      "Epoch  4, CIFAR-10 Batch 5:  Loss:     2.1316 Validation Accuracy: 0.206081\n",
      "Epoch  5, CIFAR-10 Batch 1:  Loss:     2.1750 Validation Accuracy: 0.219595\n",
      "Epoch  5, CIFAR-10 Batch 2:  Loss:     2.1471 Validation Accuracy: 0.253378\n",
      "Epoch  5, CIFAR-10 Batch 3:  Loss:     2.1529 Validation Accuracy: 0.195946\n",
      "Epoch  5, CIFAR-10 Batch 4:  Loss:     2.1126 Validation Accuracy: 0.216216\n",
      "Epoch  5, CIFAR-10 Batch 5:  Loss:     2.1083 Validation Accuracy: 0.243243\n",
      "Epoch  6, CIFAR-10 Batch 1:  Loss:     2.1441 Validation Accuracy: 0.236486\n",
      "Epoch  6, CIFAR-10 Batch 2:  Loss:     2.0875 Validation Accuracy: 0.199324\n",
      "Epoch  6, CIFAR-10 Batch 3:  Loss:     2.0886 Validation Accuracy: 0.175676\n",
      "Epoch  6, CIFAR-10 Batch 4:  Loss:     2.0424 Validation Accuracy: 0.209459\n",
      "Epoch  6, CIFAR-10 Batch 5:  Loss:     2.0626 Validation Accuracy: 0.206081\n",
      "Epoch  7, CIFAR-10 Batch 1:  Loss:     2.1790 Validation Accuracy: 0.202703\n",
      "Epoch  7, CIFAR-10 Batch 2:  Loss:     2.0710 Validation Accuracy: 0.165541\n",
      "Epoch  7, CIFAR-10 Batch 3:  Loss:     2.0708 Validation Accuracy: 0.226351\n",
      "Epoch  7, CIFAR-10 Batch 4:  Loss:     2.0424 Validation Accuracy: 0.219595\n",
      "Epoch  7, CIFAR-10 Batch 5:  Loss:     2.0929 Validation Accuracy: 0.229730\n",
      "Epoch  8, CIFAR-10 Batch 1:  Loss:     2.1195 Validation Accuracy: 0.199324\n",
      "Epoch  8, CIFAR-10 Batch 2:  Loss:     2.0486 Validation Accuracy: 0.185811\n",
      "Epoch  8, CIFAR-10 Batch 3:  Loss:     2.0474 Validation Accuracy: 0.263514\n",
      "Epoch  8, CIFAR-10 Batch 4:  Loss:     2.0055 Validation Accuracy: 0.226351\n",
      "Epoch  8, CIFAR-10 Batch 5:  Loss:     2.0258 Validation Accuracy: 0.250000\n",
      "Epoch  9, CIFAR-10 Batch 1:  Loss:     2.0529 Validation Accuracy: 0.263514\n",
      "Epoch  9, CIFAR-10 Batch 2:  Loss:     2.1010 Validation Accuracy: 0.226351\n",
      "Epoch  9, CIFAR-10 Batch 3:  Loss:     1.9863 Validation Accuracy: 0.219595\n",
      "Epoch  9, CIFAR-10 Batch 4:  Loss:     1.9979 Validation Accuracy: 0.195946\n",
      "Epoch  9, CIFAR-10 Batch 5:  Loss:     1.9820 Validation Accuracy: 0.222973\n",
      "Epoch 10, CIFAR-10 Batch 1:  Loss:     2.0996 Validation Accuracy: 0.219595\n",
      "Epoch 10, CIFAR-10 Batch 2:  Loss:     1.9773 Validation Accuracy: 0.209459\n",
      "Epoch 10, CIFAR-10 Batch 3:  Loss:     1.9528 Validation Accuracy: 0.229730\n",
      "Epoch 10, CIFAR-10 Batch 4:  Loss:     1.9100 Validation Accuracy: 0.226351\n",
      "Epoch 10, CIFAR-10 Batch 5:  Loss:     1.9736 Validation Accuracy: 0.236486\n",
      "Epoch 11, CIFAR-10 Batch 1:  Loss:     2.0851 Validation Accuracy: 0.253378\n",
      "Epoch 11, CIFAR-10 Batch 2:  Loss:     2.0561 Validation Accuracy: 0.233108\n",
      "Epoch 11, CIFAR-10 Batch 3:  Loss:     1.9920 Validation Accuracy: 0.229730\n",
      "Epoch 11, CIFAR-10 Batch 4:  Loss:     1.9453 Validation Accuracy: 0.243243\n",
      "Epoch 11, CIFAR-10 Batch 5:  Loss:     1.9438 Validation Accuracy: 0.236486\n",
      "Epoch 12, CIFAR-10 Batch 1:  Loss:     1.9882 Validation Accuracy: 0.253378\n",
      "Epoch 12, CIFAR-10 Batch 2:  Loss:     2.1043 Validation Accuracy: 0.239865\n",
      "Epoch 12, CIFAR-10 Batch 3:  Loss:     1.9766 Validation Accuracy: 0.239865\n",
      "Epoch 12, CIFAR-10 Batch 4:  Loss:     1.8942 Validation Accuracy: 0.277027\n",
      "Epoch 12, CIFAR-10 Batch 5:  Loss:     2.0383 Validation Accuracy: 0.236486\n",
      "Epoch 13, CIFAR-10 Batch 1:  Loss:     2.0337 Validation Accuracy: 0.266892\n",
      "Epoch 13, CIFAR-10 Batch 2:  Loss:     2.0029 Validation Accuracy: 0.246622\n",
      "Epoch 13, CIFAR-10 Batch 3:  Loss:     1.9446 Validation Accuracy: 0.212838\n",
      "Epoch 13, CIFAR-10 Batch 4:  Loss:     1.8735 Validation Accuracy: 0.280405\n",
      "Epoch 13, CIFAR-10 Batch 5:  Loss:     1.9490 Validation Accuracy: 0.209459\n",
      "Epoch 14, CIFAR-10 Batch 1:  Loss:     2.0029 Validation Accuracy: 0.233108\n",
      "Epoch 14, CIFAR-10 Batch 2:  Loss:     1.9894 Validation Accuracy: 0.243243\n",
      "Epoch 14, CIFAR-10 Batch 3:  Loss:     1.8967 Validation Accuracy: 0.250000\n",
      "Epoch 14, CIFAR-10 Batch 4:  Loss:     1.8969 Validation Accuracy: 0.270270\n",
      "Epoch 14, CIFAR-10 Batch 5:  Loss:     1.9836 Validation Accuracy: 0.287162\n",
      "Epoch 15, CIFAR-10 Batch 1:  Loss:     1.9601 Validation Accuracy: 0.239865\n",
      "Epoch 15, CIFAR-10 Batch 2:  Loss:     1.9007 Validation Accuracy: 0.216216\n",
      "Epoch 15, CIFAR-10 Batch 3:  Loss:     1.8473 Validation Accuracy: 0.297297\n",
      "Epoch 15, CIFAR-10 Batch 4:  Loss:     1.8336 Validation Accuracy: 0.277027\n",
      "Epoch 15, CIFAR-10 Batch 5:  Loss:     2.0172 Validation Accuracy: 0.246622\n",
      "Epoch 16, CIFAR-10 Batch 1:  Loss:     1.9951 Validation Accuracy: 0.233108\n",
      "Epoch 16, CIFAR-10 Batch 2:  Loss:     1.9376 Validation Accuracy: 0.246622\n",
      "Epoch 16, CIFAR-10 Batch 3:  Loss:     1.9086 Validation Accuracy: 0.277027\n",
      "Epoch 16, CIFAR-10 Batch 4:  Loss:     1.8372 Validation Accuracy: 0.304054\n",
      "Epoch 16, CIFAR-10 Batch 5:  Loss:     1.9145 Validation Accuracy: 0.260135\n",
      "Epoch 17, CIFAR-10 Batch 1:  Loss:     1.9029 Validation Accuracy: 0.253378\n",
      "Epoch 17, CIFAR-10 Batch 2:  Loss:     1.9460 Validation Accuracy: 0.253378\n",
      "Epoch 17, CIFAR-10 Batch 3:  Loss:     1.8104 Validation Accuracy: 0.273649\n",
      "Epoch 17, CIFAR-10 Batch 4:  Loss:     1.8416 Validation Accuracy: 0.317568\n",
      "Epoch 17, CIFAR-10 Batch 5:  Loss:     1.8811 Validation Accuracy: 0.270270\n",
      "Epoch 18, CIFAR-10 Batch 1:  Loss:     1.9627 Validation Accuracy: 0.250000\n",
      "Epoch 18, CIFAR-10 Batch 2:  Loss:     1.9380 Validation Accuracy: 0.283784\n",
      "Epoch 18, CIFAR-10 Batch 3:  Loss:     1.8719 Validation Accuracy: 0.283784\n",
      "Epoch 18, CIFAR-10 Batch 4:  Loss:     1.8150 Validation Accuracy: 0.300676\n",
      "Epoch 18, CIFAR-10 Batch 5:  Loss:     1.8571 Validation Accuracy: 0.317568\n",
      "Epoch 19, CIFAR-10 Batch 1:  Loss:     1.8621 Validation Accuracy: 0.260135\n",
      "Epoch 19, CIFAR-10 Batch 2:  Loss:     1.9100 Validation Accuracy: 0.280405\n",
      "Epoch 19, CIFAR-10 Batch 3:  Loss:     1.7470 Validation Accuracy: 0.341216\n",
      "Epoch 19, CIFAR-10 Batch 4:  Loss:     1.7509 Validation Accuracy: 0.351351\n",
      "Epoch 19, CIFAR-10 Batch 5:  Loss:     1.8688 Validation Accuracy: 0.300676\n",
      "Epoch 20, CIFAR-10 Batch 1:  Loss:     1.9709 Validation Accuracy: 0.280405\n",
      "Epoch 20, CIFAR-10 Batch 2:  Loss:     1.8958 Validation Accuracy: 0.310811\n",
      "Epoch 20, CIFAR-10 Batch 3:  Loss:     1.8335 Validation Accuracy: 0.317568\n",
      "Epoch 20, CIFAR-10 Batch 4:  Loss:     1.8099 Validation Accuracy: 0.310811\n",
      "Epoch 20, CIFAR-10 Batch 5:  Loss:     1.8278 Validation Accuracy: 0.310811\n",
      "Epoch 21, CIFAR-10 Batch 1:  Loss:     1.8980 Validation Accuracy: 0.310811\n",
      "Epoch 21, CIFAR-10 Batch 2:  Loss:     1.8167 Validation Accuracy: 0.310811\n",
      "Epoch 21, CIFAR-10 Batch 3:  Loss:     1.8318 Validation Accuracy: 0.310811\n",
      "Epoch 21, CIFAR-10 Batch 4:  Loss:     1.7234 Validation Accuracy: 0.320946\n",
      "Epoch 21, CIFAR-10 Batch 5:  Loss:     1.7469 Validation Accuracy: 0.327703\n",
      "Epoch 22, CIFAR-10 Batch 1:  Loss:     1.7737 Validation Accuracy: 0.368243\n",
      "Epoch 22, CIFAR-10 Batch 2:  Loss:     1.9061 Validation Accuracy: 0.293919\n",
      "Epoch 22, CIFAR-10 Batch 3:  Loss:     1.6338 Validation Accuracy: 0.347973\n",
      "Epoch 22, CIFAR-10 Batch 4:  Loss:     1.7666 Validation Accuracy: 0.361486\n",
      "Epoch 22, CIFAR-10 Batch 5:  Loss:     1.6649 Validation Accuracy: 0.378378\n",
      "Epoch 23, CIFAR-10 Batch 1:  Loss:     1.8487 Validation Accuracy: 0.368243\n",
      "Epoch 23, CIFAR-10 Batch 2:  Loss:     1.7737 Validation Accuracy: 0.317568\n",
      "Epoch 23, CIFAR-10 Batch 3:  Loss:     1.7177 Validation Accuracy: 0.354730\n",
      "Epoch 23, CIFAR-10 Batch 4:  Loss:     1.6987 Validation Accuracy: 0.395270\n",
      "Epoch 23, CIFAR-10 Batch 5:  Loss:     1.6357 Validation Accuracy: 0.364865\n",
      "Epoch 24, CIFAR-10 Batch 1:  Loss:     1.7644 Validation Accuracy: 0.300676\n",
      "Epoch 24, CIFAR-10 Batch 2:  Loss:     1.6739 Validation Accuracy: 0.361486\n",
      "Epoch 24, CIFAR-10 Batch 3:  Loss:     1.6333 Validation Accuracy: 0.381757\n",
      "Epoch 24, CIFAR-10 Batch 4:  Loss:     1.5774 Validation Accuracy: 0.402027\n",
      "Epoch 24, CIFAR-10 Batch 5:  Loss:     1.6196 Validation Accuracy: 0.371622\n",
      "Epoch 25, CIFAR-10 Batch 1:  Loss:     1.7271 Validation Accuracy: 0.381757\n",
      "Epoch 25, CIFAR-10 Batch 2:  Loss:     1.7220 Validation Accuracy: 0.402027\n",
      "Epoch 25, CIFAR-10 Batch 3:  Loss:     1.5380 Validation Accuracy: 0.452703\n",
      "Epoch 25, CIFAR-10 Batch 4:  Loss:     1.5435 Validation Accuracy: 0.398649\n",
      "Epoch 25, CIFAR-10 Batch 5:  Loss:     1.5915 Validation Accuracy: 0.425676\n",
      "Epoch 26, CIFAR-10 Batch 1:  Loss:     1.7614 Validation Accuracy: 0.391892\n",
      "Epoch 26, CIFAR-10 Batch 2:  Loss:     1.5925 Validation Accuracy: 0.395270\n",
      "Epoch 26, CIFAR-10 Batch 3:  Loss:     1.5572 Validation Accuracy: 0.385135\n",
      "Epoch 26, CIFAR-10 Batch 4:  Loss:     1.4279 Validation Accuracy: 0.452703\n",
      "Epoch 26, CIFAR-10 Batch 5:  Loss:     1.5307 Validation Accuracy: 0.459459\n",
      "Epoch 27, CIFAR-10 Batch 1:  Loss:     1.6858 Validation Accuracy: 0.462838\n",
      "Epoch 27, CIFAR-10 Batch 2:  Loss:     1.6210 Validation Accuracy: 0.462838\n",
      "Epoch 27, CIFAR-10 Batch 3:  Loss:     1.4037 Validation Accuracy: 0.459459\n",
      "Epoch 27, CIFAR-10 Batch 4:  Loss:     1.3311 Validation Accuracy: 0.486486\n",
      "Epoch 27, CIFAR-10 Batch 5:  Loss:     1.4646 Validation Accuracy: 0.476351\n",
      "Epoch 28, CIFAR-10 Batch 1:  Loss:     1.6434 Validation Accuracy: 0.435811\n",
      "Epoch 28, CIFAR-10 Batch 2:  Loss:     1.5122 Validation Accuracy: 0.445946\n",
      "Epoch 28, CIFAR-10 Batch 3:  Loss:     1.4597 Validation Accuracy: 0.466216\n",
      "Epoch 28, CIFAR-10 Batch 4:  Loss:     1.3889 Validation Accuracy: 0.459459\n",
      "Epoch 28, CIFAR-10 Batch 5:  Loss:     1.4331 Validation Accuracy: 0.513514\n",
      "Epoch 29, CIFAR-10 Batch 1:  Loss:     1.5608 Validation Accuracy: 0.442568\n",
      "Epoch 29, CIFAR-10 Batch 2:  Loss:     1.5749 Validation Accuracy: 0.466216\n",
      "Epoch 29, CIFAR-10 Batch 3:  Loss:     1.3012 Validation Accuracy: 0.486486\n",
      "Epoch 29, CIFAR-10 Batch 4:  Loss:     1.3454 Validation Accuracy: 0.516892\n",
      "Epoch 29, CIFAR-10 Batch 5:  Loss:     1.3512 Validation Accuracy: 0.493243\n",
      "Epoch 30, CIFAR-10 Batch 1:  Loss:     1.5738 Validation Accuracy: 0.456081\n",
      "Epoch 30, CIFAR-10 Batch 2:  Loss:     1.4880 Validation Accuracy: 0.479730\n",
      "Epoch 30, CIFAR-10 Batch 3:  Loss:     1.2495 Validation Accuracy: 0.547297\n",
      "Epoch 30, CIFAR-10 Batch 4:  Loss:     1.2897 Validation Accuracy: 0.547297\n",
      "Epoch 30, CIFAR-10 Batch 5:  Loss:     1.3237 Validation Accuracy: 0.513514\n",
      "Epoch 31, CIFAR-10 Batch 1:  Loss:     1.4541 Validation Accuracy: 0.469595\n",
      "Epoch 31, CIFAR-10 Batch 2:  Loss:     1.4110 Validation Accuracy: 0.469595\n",
      "Epoch 31, CIFAR-10 Batch 3:  Loss:     1.3053 Validation Accuracy: 0.520270\n",
      "Epoch 31, CIFAR-10 Batch 4:  Loss:     1.2997 Validation Accuracy: 0.540541\n",
      "Epoch 31, CIFAR-10 Batch 5:  Loss:     1.3380 Validation Accuracy: 0.560811\n",
      "Epoch 32, CIFAR-10 Batch 1:  Loss:     1.3940 Validation Accuracy: 0.496622\n",
      "Epoch 32, CIFAR-10 Batch 2:  Loss:     1.3489 Validation Accuracy: 0.506757\n",
      "Epoch 32, CIFAR-10 Batch 3:  Loss:     1.2178 Validation Accuracy: 0.496622\n",
      "Epoch 32, CIFAR-10 Batch 4:  Loss:     1.2298 Validation Accuracy: 0.557432\n",
      "Epoch 32, CIFAR-10 Batch 5:  Loss:     1.2776 Validation Accuracy: 0.513514\n",
      "Epoch 33, CIFAR-10 Batch 1:  Loss:     1.3927 Validation Accuracy: 0.554054\n",
      "Epoch 33, CIFAR-10 Batch 2:  Loss:     1.3475 Validation Accuracy: 0.479730\n",
      "Epoch 33, CIFAR-10 Batch 3:  Loss:     1.2197 Validation Accuracy: 0.530405\n",
      "Epoch 33, CIFAR-10 Batch 4:  Loss:     1.1848 Validation Accuracy: 0.577703\n",
      "Epoch 33, CIFAR-10 Batch 5:  Loss:     1.2420 Validation Accuracy: 0.527027\n",
      "Epoch 34, CIFAR-10 Batch 1:  Loss:     1.2669 Validation Accuracy: 0.584459\n",
      "Epoch 34, CIFAR-10 Batch 2:  Loss:     1.3405 Validation Accuracy: 0.506757\n",
      "Epoch 34, CIFAR-10 Batch 3:  Loss:     1.1502 Validation Accuracy: 0.584459\n",
      "Epoch 34, CIFAR-10 Batch 4:  Loss:     1.1511 Validation Accuracy: 0.597973\n",
      "Epoch 34, CIFAR-10 Batch 5:  Loss:     1.2579 Validation Accuracy: 0.547297\n",
      "Epoch 35, CIFAR-10 Batch 1:  Loss:     1.3117 Validation Accuracy: 0.520270\n",
      "Epoch 35, CIFAR-10 Batch 2:  Loss:     1.3049 Validation Accuracy: 0.506757\n",
      "Epoch 35, CIFAR-10 Batch 3:  Loss:     1.1316 Validation Accuracy: 0.574324\n",
      "Epoch 35, CIFAR-10 Batch 4:  Loss:     1.1415 Validation Accuracy: 0.567568\n",
      "Epoch 35, CIFAR-10 Batch 5:  Loss:     1.2554 Validation Accuracy: 0.543919\n",
      "Epoch 36, CIFAR-10 Batch 1:  Loss:     1.2623 Validation Accuracy: 0.506757\n",
      "Epoch 36, CIFAR-10 Batch 2:  Loss:     1.2317 Validation Accuracy: 0.560811\n",
      "Epoch 36, CIFAR-10 Batch 3:  Loss:     1.1448 Validation Accuracy: 0.597973\n",
      "Epoch 36, CIFAR-10 Batch 4:  Loss:     1.0506 Validation Accuracy: 0.614865\n",
      "Epoch 36, CIFAR-10 Batch 5:  Loss:     1.1773 Validation Accuracy: 0.557432\n",
      "Epoch 37, CIFAR-10 Batch 1:  Loss:     1.1943 Validation Accuracy: 0.581081\n",
      "Epoch 37, CIFAR-10 Batch 2:  Loss:     1.1586 Validation Accuracy: 0.570946\n",
      "Epoch 37, CIFAR-10 Batch 3:  Loss:     1.1099 Validation Accuracy: 0.597973\n",
      "Epoch 37, CIFAR-10 Batch 4:  Loss:     1.1013 Validation Accuracy: 0.625000\n",
      "Epoch 37, CIFAR-10 Batch 5:  Loss:     1.0936 Validation Accuracy: 0.564189\n",
      "Epoch 38, CIFAR-10 Batch 1:  Loss:     1.1943 Validation Accuracy: 0.587838\n",
      "Epoch 38, CIFAR-10 Batch 2:  Loss:     1.1171 Validation Accuracy: 0.611486\n",
      "Epoch 38, CIFAR-10 Batch 3:  Loss:     0.9913 Validation Accuracy: 0.628378\n",
      "Epoch 38, CIFAR-10 Batch 4:  Loss:     1.0199 Validation Accuracy: 0.655405\n",
      "Epoch 38, CIFAR-10 Batch 5:  Loss:     1.0603 Validation Accuracy: 0.608108\n",
      "Epoch 39, CIFAR-10 Batch 1:  Loss:     1.1756 Validation Accuracy: 0.564189\n",
      "Epoch 39, CIFAR-10 Batch 2:  Loss:     1.1459 Validation Accuracy: 0.591216\n",
      "Epoch 39, CIFAR-10 Batch 3:  Loss:     0.9881 Validation Accuracy: 0.641892\n",
      "Epoch 39, CIFAR-10 Batch 4:  Loss:     1.0287 Validation Accuracy: 0.662162\n",
      "Epoch 39, CIFAR-10 Batch 5:  Loss:     1.1011 Validation Accuracy: 0.564189\n",
      "Epoch 40, CIFAR-10 Batch 1:  Loss:     1.1866 Validation Accuracy: 0.604730\n",
      "Epoch 40, CIFAR-10 Batch 2:  Loss:     1.0881 Validation Accuracy: 0.618243\n",
      "Epoch 40, CIFAR-10 Batch 3:  Loss:     1.0038 Validation Accuracy: 0.614865\n",
      "Epoch 40, CIFAR-10 Batch 4:  Loss:     0.9438 Validation Accuracy: 0.665541\n",
      "Epoch 40, CIFAR-10 Batch 5:  Loss:     1.1288 Validation Accuracy: 0.560811\n",
      "Epoch 41, CIFAR-10 Batch 1:  Loss:     1.0745 Validation Accuracy: 0.614865\n",
      "Epoch 41, CIFAR-10 Batch 2:  Loss:     1.0598 Validation Accuracy: 0.655405\n",
      "Epoch 41, CIFAR-10 Batch 3:  Loss:     0.9630 Validation Accuracy: 0.638514\n",
      "Epoch 41, CIFAR-10 Batch 4:  Loss:     0.9646 Validation Accuracy: 0.668919\n",
      "Epoch 41, CIFAR-10 Batch 5:  Loss:     1.1049 Validation Accuracy: 0.587838\n",
      "Epoch 42, CIFAR-10 Batch 1:  Loss:     1.0937 Validation Accuracy: 0.581081\n",
      "Epoch 42, CIFAR-10 Batch 2:  Loss:     1.0620 Validation Accuracy: 0.597973\n",
      "Epoch 42, CIFAR-10 Batch 3:  Loss:     0.9160 Validation Accuracy: 0.668919\n",
      "Epoch 42, CIFAR-10 Batch 4:  Loss:     0.9219 Validation Accuracy: 0.652027\n",
      "Epoch 42, CIFAR-10 Batch 5:  Loss:     1.0326 Validation Accuracy: 0.648649\n",
      "Epoch 43, CIFAR-10 Batch 1:  Loss:     1.1289 Validation Accuracy: 0.574324\n",
      "Epoch 43, CIFAR-10 Batch 2:  Loss:     1.0168 Validation Accuracy: 0.641892\n",
      "Epoch 43, CIFAR-10 Batch 3:  Loss:     0.9373 Validation Accuracy: 0.655405\n",
      "Epoch 43, CIFAR-10 Batch 4:  Loss:     0.9286 Validation Accuracy: 0.655405\n",
      "Epoch 43, CIFAR-10 Batch 5:  Loss:     0.9437 Validation Accuracy: 0.628378\n",
      "Epoch 44, CIFAR-10 Batch 1:  Loss:     1.0354 Validation Accuracy: 0.631757\n",
      "Epoch 44, CIFAR-10 Batch 2:  Loss:     1.0407 Validation Accuracy: 0.594595\n",
      "Epoch 44, CIFAR-10 Batch 3:  Loss:     0.8795 Validation Accuracy: 0.685811\n",
      "Epoch 44, CIFAR-10 Batch 4:  Loss:     0.8602 Validation Accuracy: 0.668919\n",
      "Epoch 44, CIFAR-10 Batch 5:  Loss:     0.9239 Validation Accuracy: 0.665541\n",
      "Epoch 45, CIFAR-10 Batch 1:  Loss:     1.0104 Validation Accuracy: 0.665541\n",
      "Epoch 45, CIFAR-10 Batch 2:  Loss:     0.9513 Validation Accuracy: 0.662162\n",
      "Epoch 45, CIFAR-10 Batch 3:  Loss:     0.8127 Validation Accuracy: 0.692568\n",
      "Epoch 45, CIFAR-10 Batch 4:  Loss:     0.8023 Validation Accuracy: 0.682432\n",
      "Epoch 45, CIFAR-10 Batch 5:  Loss:     0.9642 Validation Accuracy: 0.668919\n",
      "Epoch 46, CIFAR-10 Batch 1:  Loss:     0.9716 Validation Accuracy: 0.631757\n",
      "Epoch 46, CIFAR-10 Batch 2:  Loss:     0.9005 Validation Accuracy: 0.638514\n",
      "Epoch 46, CIFAR-10 Batch 3:  Loss:     0.8207 Validation Accuracy: 0.685811\n",
      "Epoch 46, CIFAR-10 Batch 4:  Loss:     0.8195 Validation Accuracy: 0.706081\n",
      "Epoch 46, CIFAR-10 Batch 5:  Loss:     0.8711 Validation Accuracy: 0.689189\n",
      "Epoch 47, CIFAR-10 Batch 1:  Loss:     0.9048 Validation Accuracy: 0.658784\n",
      "Epoch 47, CIFAR-10 Batch 2:  Loss:     0.9183 Validation Accuracy: 0.689189\n",
      "Epoch 47, CIFAR-10 Batch 3:  Loss:     0.7343 Validation Accuracy: 0.712838\n",
      "Epoch 47, CIFAR-10 Batch 4:  Loss:     0.8090 Validation Accuracy: 0.706081\n",
      "Epoch 47, CIFAR-10 Batch 5:  Loss:     0.8557 Validation Accuracy: 0.662162\n",
      "Epoch 48, CIFAR-10 Batch 1:  Loss:     0.9042 Validation Accuracy: 0.662162\n",
      "Epoch 48, CIFAR-10 Batch 2:  Loss:     0.8370 Validation Accuracy: 0.706081\n",
      "Epoch 48, CIFAR-10 Batch 3:  Loss:     0.7851 Validation Accuracy: 0.706081\n",
      "Epoch 48, CIFAR-10 Batch 4:  Loss:     0.7972 Validation Accuracy: 0.719595\n",
      "Epoch 48, CIFAR-10 Batch 5:  Loss:     0.8256 Validation Accuracy: 0.689189\n",
      "Epoch 49, CIFAR-10 Batch 1:  Loss:     0.9017 Validation Accuracy: 0.668919\n",
      "Epoch 49, CIFAR-10 Batch 2:  Loss:     0.8814 Validation Accuracy: 0.685811\n",
      "Epoch 49, CIFAR-10 Batch 3:  Loss:     0.7401 Validation Accuracy: 0.692568\n",
      "Epoch 49, CIFAR-10 Batch 4:  Loss:     0.7440 Validation Accuracy: 0.743243\n",
      "Epoch 49, CIFAR-10 Batch 5:  Loss:     0.8325 Validation Accuracy: 0.712838\n",
      "Epoch 50, CIFAR-10 Batch 1:  Loss:     0.8391 Validation Accuracy: 0.679054\n",
      "Epoch 50, CIFAR-10 Batch 2:  Loss:     0.8259 Validation Accuracy: 0.716216\n",
      "Epoch 50, CIFAR-10 Batch 3:  Loss:     0.6949 Validation Accuracy: 0.726351\n",
      "Epoch 50, CIFAR-10 Batch 4:  Loss:     0.7627 Validation Accuracy: 0.719595\n",
      "Epoch 50, CIFAR-10 Batch 5:  Loss:     0.7921 Validation Accuracy: 0.695946\n",
      "Epoch 51, CIFAR-10 Batch 1:  Loss:     0.8734 Validation Accuracy: 0.709459\n",
      "Epoch 51, CIFAR-10 Batch 2:  Loss:     0.8148 Validation Accuracy: 0.682432\n",
      "Epoch 51, CIFAR-10 Batch 3:  Loss:     0.6825 Validation Accuracy: 0.763514\n",
      "Epoch 51, CIFAR-10 Batch 4:  Loss:     0.7139 Validation Accuracy: 0.736486\n",
      "Epoch 51, CIFAR-10 Batch 5:  Loss:     0.6789 Validation Accuracy: 0.719595\n",
      "Epoch 52, CIFAR-10 Batch 1:  Loss:     0.7558 Validation Accuracy: 0.709459\n",
      "Epoch 52, CIFAR-10 Batch 2:  Loss:     0.8193 Validation Accuracy: 0.709459\n",
      "Epoch 52, CIFAR-10 Batch 3:  Loss:     0.6365 Validation Accuracy: 0.733108\n",
      "Epoch 52, CIFAR-10 Batch 4:  Loss:     0.7464 Validation Accuracy: 0.773649\n",
      "Epoch 52, CIFAR-10 Batch 5:  Loss:     0.7091 Validation Accuracy: 0.739865\n",
      "Epoch 53, CIFAR-10 Batch 1:  Loss:     0.8887 Validation Accuracy: 0.722973\n",
      "Epoch 53, CIFAR-10 Batch 2:  Loss:     0.8456 Validation Accuracy: 0.716216\n",
      "Epoch 53, CIFAR-10 Batch 3:  Loss:     0.6293 Validation Accuracy: 0.770270\n",
      "Epoch 53, CIFAR-10 Batch 4:  Loss:     0.6583 Validation Accuracy: 0.773649\n",
      "Epoch 53, CIFAR-10 Batch 5:  Loss:     0.6449 Validation Accuracy: 0.743243\n",
      "Epoch 54, CIFAR-10 Batch 1:  Loss:     0.7482 Validation Accuracy: 0.736486\n",
      "Epoch 54, CIFAR-10 Batch 2:  Loss:     0.7323 Validation Accuracy: 0.766892\n",
      "Epoch 54, CIFAR-10 Batch 3:  Loss:     0.6243 Validation Accuracy: 0.783784\n",
      "Epoch 54, CIFAR-10 Batch 4:  Loss:     0.6448 Validation Accuracy: 0.739865\n",
      "Epoch 54, CIFAR-10 Batch 5:  Loss:     0.6893 Validation Accuracy: 0.729730\n",
      "Epoch 55, CIFAR-10 Batch 1:  Loss:     0.7406 Validation Accuracy: 0.716216\n",
      "Epoch 55, CIFAR-10 Batch 2:  Loss:     0.7488 Validation Accuracy: 0.719595\n",
      "Epoch 55, CIFAR-10 Batch 3:  Loss:     0.5831 Validation Accuracy: 0.790541\n",
      "Epoch 55, CIFAR-10 Batch 4:  Loss:     0.6286 Validation Accuracy: 0.763514\n",
      "Epoch 55, CIFAR-10 Batch 5:  Loss:     0.6570 Validation Accuracy: 0.777027\n",
      "Epoch 56, CIFAR-10 Batch 1:  Loss:     0.7036 Validation Accuracy: 0.729730\n",
      "Epoch 56, CIFAR-10 Batch 2:  Loss:     0.7663 Validation Accuracy: 0.716216\n",
      "Epoch 56, CIFAR-10 Batch 3:  Loss:     0.5947 Validation Accuracy: 0.783784\n",
      "Epoch 56, CIFAR-10 Batch 4:  Loss:     0.5808 Validation Accuracy: 0.777027\n",
      "Epoch 56, CIFAR-10 Batch 5:  Loss:     0.6013 Validation Accuracy: 0.817568\n",
      "Epoch 57, CIFAR-10 Batch 1:  Loss:     0.7930 Validation Accuracy: 0.712838\n",
      "Epoch 57, CIFAR-10 Batch 2:  Loss:     0.7067 Validation Accuracy: 0.712838\n",
      "Epoch 57, CIFAR-10 Batch 3:  Loss:     0.6400 Validation Accuracy: 0.760135\n",
      "Epoch 57, CIFAR-10 Batch 4:  Loss:     0.6344 Validation Accuracy: 0.773649\n",
      "Epoch 57, CIFAR-10 Batch 5:  Loss:     0.6337 Validation Accuracy: 0.760135\n",
      "Epoch 58, CIFAR-10 Batch 1:  Loss:     0.7008 Validation Accuracy: 0.729730\n",
      "Epoch 58, CIFAR-10 Batch 2:  Loss:     0.7242 Validation Accuracy: 0.746622\n",
      "Epoch 58, CIFAR-10 Batch 3:  Loss:     0.5632 Validation Accuracy: 0.766892\n",
      "Epoch 58, CIFAR-10 Batch 4:  Loss:     0.6697 Validation Accuracy: 0.773649\n",
      "Epoch 58, CIFAR-10 Batch 5:  Loss:     0.5525 Validation Accuracy: 0.793919\n",
      "Epoch 59, CIFAR-10 Batch 1:  Loss:     0.6741 Validation Accuracy: 0.719595\n",
      "Epoch 59, CIFAR-10 Batch 2:  Loss:     0.6393 Validation Accuracy: 0.756757\n",
      "Epoch 59, CIFAR-10 Batch 3:  Loss:     0.5777 Validation Accuracy: 0.773649\n",
      "Epoch 59, CIFAR-10 Batch 4:  Loss:     0.5708 Validation Accuracy: 0.807432\n",
      "Epoch 59, CIFAR-10 Batch 5:  Loss:     0.5451 Validation Accuracy: 0.773649\n",
      "Epoch 60, CIFAR-10 Batch 1:  Loss:     0.6532 Validation Accuracy: 0.780405\n",
      "Epoch 60, CIFAR-10 Batch 2:  Loss:     0.6368 Validation Accuracy: 0.793919\n",
      "Epoch 60, CIFAR-10 Batch 3:  Loss:     0.5344 Validation Accuracy: 0.783784\n",
      "Epoch 60, CIFAR-10 Batch 4:  Loss:     0.5533 Validation Accuracy: 0.787162\n",
      "Epoch 60, CIFAR-10 Batch 5:  Loss:     0.5675 Validation Accuracy: 0.793919\n",
      "Epoch 61, CIFAR-10 Batch 1:  Loss:     0.6068 Validation Accuracy: 0.753378\n",
      "Epoch 61, CIFAR-10 Batch 2:  Loss:     0.6226 Validation Accuracy: 0.756757\n",
      "Epoch 61, CIFAR-10 Batch 3:  Loss:     0.4981 Validation Accuracy: 0.837838\n",
      "Epoch 61, CIFAR-10 Batch 4:  Loss:     0.5722 Validation Accuracy: 0.793919\n",
      "Epoch 61, CIFAR-10 Batch 5:  Loss:     0.5057 Validation Accuracy: 0.817568\n",
      "Epoch 62, CIFAR-10 Batch 1:  Loss:     0.5858 Validation Accuracy: 0.777027\n",
      "Epoch 62, CIFAR-10 Batch 2:  Loss:     0.6379 Validation Accuracy: 0.760135\n",
      "Epoch 62, CIFAR-10 Batch 3:  Loss:     0.4945 Validation Accuracy: 0.837838\n",
      "Epoch 62, CIFAR-10 Batch 4:  Loss:     0.5059 Validation Accuracy: 0.804054\n",
      "Epoch 62, CIFAR-10 Batch 5:  Loss:     0.5406 Validation Accuracy: 0.800676\n",
      "Epoch 63, CIFAR-10 Batch 1:  Loss:     0.5740 Validation Accuracy: 0.790541\n",
      "Epoch 63, CIFAR-10 Batch 2:  Loss:     0.5468 Validation Accuracy: 0.807432\n",
      "Epoch 63, CIFAR-10 Batch 3:  Loss:     0.4691 Validation Accuracy: 0.844595\n",
      "Epoch 63, CIFAR-10 Batch 4:  Loss:     0.5552 Validation Accuracy: 0.787162\n",
      "Epoch 63, CIFAR-10 Batch 5:  Loss:     0.5393 Validation Accuracy: 0.804054\n",
      "Epoch 64, CIFAR-10 Batch 1:  Loss:     0.5078 Validation Accuracy: 0.804054\n",
      "Epoch 64, CIFAR-10 Batch 2:  Loss:     0.5406 Validation Accuracy: 0.793919\n",
      "Epoch 64, CIFAR-10 Batch 3:  Loss:     0.3798 Validation Accuracy: 0.868243\n",
      "Epoch 64, CIFAR-10 Batch 4:  Loss:     0.5260 Validation Accuracy: 0.841216\n",
      "Epoch 64, CIFAR-10 Batch 5:  Loss:     0.4893 Validation Accuracy: 0.837838\n",
      "Epoch 65, CIFAR-10 Batch 1:  Loss:     0.5132 Validation Accuracy: 0.824324\n",
      "Epoch 65, CIFAR-10 Batch 2:  Loss:     0.5202 Validation Accuracy: 0.841216\n",
      "Epoch 65, CIFAR-10 Batch 3:  Loss:     0.3774 Validation Accuracy: 0.858108\n",
      "Epoch 65, CIFAR-10 Batch 4:  Loss:     0.4619 Validation Accuracy: 0.841216\n",
      "Epoch 65, CIFAR-10 Batch 5:  Loss:     0.4660 Validation Accuracy: 0.824324\n",
      "Epoch 66, CIFAR-10 Batch 1:  Loss:     0.5212 Validation Accuracy: 0.780405\n",
      "Epoch 66, CIFAR-10 Batch 2:  Loss:     0.4484 Validation Accuracy: 0.804054\n",
      "Epoch 66, CIFAR-10 Batch 3:  Loss:     0.3988 Validation Accuracy: 0.871622\n",
      "Epoch 66, CIFAR-10 Batch 4:  Loss:     0.4097 Validation Accuracy: 0.844595\n",
      "Epoch 66, CIFAR-10 Batch 5:  Loss:     0.4466 Validation Accuracy: 0.810811\n",
      "Epoch 67, CIFAR-10 Batch 1:  Loss:     0.4512 Validation Accuracy: 0.827703\n",
      "Epoch 67, CIFAR-10 Batch 2:  Loss:     0.4895 Validation Accuracy: 0.837838\n",
      "Epoch 67, CIFAR-10 Batch 3:  Loss:     0.3565 Validation Accuracy: 0.885135\n",
      "Epoch 67, CIFAR-10 Batch 4:  Loss:     0.4690 Validation Accuracy: 0.844595\n",
      "Epoch 67, CIFAR-10 Batch 5:  Loss:     0.4554 Validation Accuracy: 0.875000\n",
      "Epoch 68, CIFAR-10 Batch 1:  Loss:     0.4694 Validation Accuracy: 0.817568\n",
      "Epoch 68, CIFAR-10 Batch 2:  Loss:     0.4185 Validation Accuracy: 0.834459\n",
      "Epoch 68, CIFAR-10 Batch 3:  Loss:     0.3776 Validation Accuracy: 0.898649\n",
      "Epoch 68, CIFAR-10 Batch 4:  Loss:     0.4022 Validation Accuracy: 0.844595\n",
      "Epoch 68, CIFAR-10 Batch 5:  Loss:     0.4094 Validation Accuracy: 0.868243\n",
      "Epoch 69, CIFAR-10 Batch 1:  Loss:     0.4768 Validation Accuracy: 0.834459\n",
      "Epoch 69, CIFAR-10 Batch 2:  Loss:     0.4260 Validation Accuracy: 0.837838\n",
      "Epoch 69, CIFAR-10 Batch 3:  Loss:     0.3431 Validation Accuracy: 0.868243\n",
      "Epoch 69, CIFAR-10 Batch 4:  Loss:     0.3926 Validation Accuracy: 0.861486\n",
      "Epoch 69, CIFAR-10 Batch 5:  Loss:     0.3810 Validation Accuracy: 0.868243\n",
      "Epoch 70, CIFAR-10 Batch 1:  Loss:     0.4301 Validation Accuracy: 0.824324\n",
      "Epoch 70, CIFAR-10 Batch 2:  Loss:     0.4568 Validation Accuracy: 0.868243\n",
      "Epoch 70, CIFAR-10 Batch 3:  Loss:     0.3425 Validation Accuracy: 0.885135\n",
      "Epoch 70, CIFAR-10 Batch 4:  Loss:     0.3804 Validation Accuracy: 0.858108\n",
      "Epoch 70, CIFAR-10 Batch 5:  Loss:     0.3977 Validation Accuracy: 0.861486\n",
      "Epoch 71, CIFAR-10 Batch 1:  Loss:     0.4022 Validation Accuracy: 0.851351\n",
      "Epoch 71, CIFAR-10 Batch 2:  Loss:     0.4074 Validation Accuracy: 0.861486\n",
      "Epoch 71, CIFAR-10 Batch 3:  Loss:     0.3716 Validation Accuracy: 0.902027\n",
      "Epoch 71, CIFAR-10 Batch 4:  Loss:     0.3831 Validation Accuracy: 0.851351\n",
      "Epoch 71, CIFAR-10 Batch 5:  Loss:     0.3658 Validation Accuracy: 0.861486\n",
      "Epoch 72, CIFAR-10 Batch 1:  Loss:     0.4519 Validation Accuracy: 0.851351\n",
      "Epoch 72, CIFAR-10 Batch 2:  Loss:     0.3629 Validation Accuracy: 0.871622\n",
      "Epoch 72, CIFAR-10 Batch 3:  Loss:     0.3675 Validation Accuracy: 0.885135\n",
      "Epoch 72, CIFAR-10 Batch 4:  Loss:     0.3408 Validation Accuracy: 0.861486\n",
      "Epoch 72, CIFAR-10 Batch 5:  Loss:     0.3331 Validation Accuracy: 0.888514\n",
      "Epoch 73, CIFAR-10 Batch 1:  Loss:     0.4298 Validation Accuracy: 0.841216\n",
      "Epoch 73, CIFAR-10 Batch 2:  Loss:     0.4318 Validation Accuracy: 0.807432\n",
      "Epoch 73, CIFAR-10 Batch 3:  Loss:     0.3828 Validation Accuracy: 0.861486\n",
      "Epoch 73, CIFAR-10 Batch 4:  Loss:     0.3514 Validation Accuracy: 0.841216\n",
      "Epoch 73, CIFAR-10 Batch 5:  Loss:     0.3032 Validation Accuracy: 0.881757\n",
      "Epoch 74, CIFAR-10 Batch 1:  Loss:     0.3392 Validation Accuracy: 0.868243\n",
      "Epoch 74, CIFAR-10 Batch 2:  Loss:     0.3862 Validation Accuracy: 0.878378\n",
      "Epoch 74, CIFAR-10 Batch 3:  Loss:     0.3370 Validation Accuracy: 0.858108\n",
      "Epoch 74, CIFAR-10 Batch 4:  Loss:     0.3174 Validation Accuracy: 0.875000\n",
      "Epoch 74, CIFAR-10 Batch 5:  Loss:     0.2752 Validation Accuracy: 0.915541\n",
      "Epoch 75, CIFAR-10 Batch 1:  Loss:     0.3945 Validation Accuracy: 0.834459\n",
      "Epoch 75, CIFAR-10 Batch 2:  Loss:     0.3654 Validation Accuracy: 0.868243\n",
      "Epoch 75, CIFAR-10 Batch 3:  Loss:     0.2828 Validation Accuracy: 0.902027\n",
      "Epoch 75, CIFAR-10 Batch 4:  Loss:     0.3420 Validation Accuracy: 0.888514\n",
      "Epoch 75, CIFAR-10 Batch 5:  Loss:     0.2956 Validation Accuracy: 0.891892\n",
      "Epoch 76, CIFAR-10 Batch 1:  Loss:     0.4107 Validation Accuracy: 0.864865\n",
      "Epoch 76, CIFAR-10 Batch 2:  Loss:     0.4211 Validation Accuracy: 0.837838\n",
      "Epoch 76, CIFAR-10 Batch 3:  Loss:     0.3116 Validation Accuracy: 0.885135\n",
      "Epoch 76, CIFAR-10 Batch 4:  Loss:     0.3546 Validation Accuracy: 0.847973\n",
      "Epoch 76, CIFAR-10 Batch 5:  Loss:     0.2588 Validation Accuracy: 0.908784\n",
      "Epoch 77, CIFAR-10 Batch 1:  Loss:     0.3734 Validation Accuracy: 0.881757\n",
      "Epoch 77, CIFAR-10 Batch 2:  Loss:     0.4198 Validation Accuracy: 0.844595\n",
      "Epoch 77, CIFAR-10 Batch 3:  Loss:     0.2884 Validation Accuracy: 0.912162\n",
      "Epoch 77, CIFAR-10 Batch 4:  Loss:     0.4103 Validation Accuracy: 0.841216\n",
      "Epoch 77, CIFAR-10 Batch 5:  Loss:     0.3629 Validation Accuracy: 0.878378\n",
      "Epoch 78, CIFAR-10 Batch 1:  Loss:     0.3363 Validation Accuracy: 0.875000\n",
      "Epoch 78, CIFAR-10 Batch 2:  Loss:     0.3434 Validation Accuracy: 0.878378\n",
      "Epoch 78, CIFAR-10 Batch 3:  Loss:     0.2480 Validation Accuracy: 0.881757\n",
      "Epoch 78, CIFAR-10 Batch 4:  Loss:     0.3494 Validation Accuracy: 0.888514\n",
      "Epoch 78, CIFAR-10 Batch 5:  Loss:     0.4172 Validation Accuracy: 0.844595\n",
      "Epoch 79, CIFAR-10 Batch 1:  Loss:     0.3944 Validation Accuracy: 0.885135\n",
      "Epoch 79, CIFAR-10 Batch 2:  Loss:     0.3452 Validation Accuracy: 0.898649\n",
      "Epoch 79, CIFAR-10 Batch 3:  Loss:     0.2731 Validation Accuracy: 0.902027\n",
      "Epoch 79, CIFAR-10 Batch 4:  Loss:     0.3426 Validation Accuracy: 0.885135\n",
      "Epoch 79, CIFAR-10 Batch 5:  Loss:     0.3033 Validation Accuracy: 0.895270\n",
      "Epoch 80, CIFAR-10 Batch 1:  Loss:     0.3642 Validation Accuracy: 0.878378\n",
      "Epoch 80, CIFAR-10 Batch 2:  Loss:     0.3531 Validation Accuracy: 0.854730\n",
      "Epoch 80, CIFAR-10 Batch 3:  Loss:     0.2236 Validation Accuracy: 0.908784\n",
      "Epoch 80, CIFAR-10 Batch 4:  Loss:     0.2740 Validation Accuracy: 0.891892\n",
      "Epoch 80, CIFAR-10 Batch 5:  Loss:     0.2719 Validation Accuracy: 0.902027\n"
     ]
    }
   ],
   "source": [
    "\"\"\"\n",
    "DON'T MODIFY ANYTHING IN THIS CELL\n",
    "\"\"\"\n",
    "save_model_path = './image_classification'\n",
    "\n",
    "print('Training...')\n",
    "with tf.Session() as sess:\n",
    "    # Initializing the variables\n",
    "    sess.run(tf.global_variables_initializer())\n",
    "    \n",
    "    # Training cycle\n",
    "    for epoch in range(epochs):\n",
    "        # Loop over all batches\n",
    "        n_batches = 5\n",
    "        for batch_i in range(1, n_batches + 1):\n",
    "            for batch_features, batch_labels in helper.load_preprocess_training_batch(batch_i, batch_size):\n",
    "                train_neural_network(sess, optimizer, keep_probability, batch_features, batch_labels)\n",
    "            print('Epoch {:>2}, CIFAR-10 Batch {}:  '.format(epoch + 1, batch_i), end='')\n",
    "            print_stats(sess, batch_features, batch_labels, cost, accuracy)\n",
    "            \n",
    "    # Save Model\n",
    "    saver = tf.train.Saver()\n",
    "    save_path = saver.save(sess, save_model_path)"
   ]
  },
  {
   "cell_type": "markdown",
   "metadata": {},
   "source": [
    "# Checkpoint\n",
    "The model has been saved to disk.\n",
    "## Test Model\n",
    "Test your model against the test dataset.  This will be your final accuracy. You should have an accuracy greater than 50%. If you don't, keep tweaking the model architecture and parameters."
   ]
  },
  {
   "cell_type": "code",
   "execution_count": 19,
   "metadata": {
    "collapsed": false
   },
   "outputs": [
    {
     "name": "stdout",
     "output_type": "stream",
     "text": [
      "Testing Accuracy: 0.6521886497735977\n",
      "\n"
     ]
    },
    {
     "data": {
      "image/png": "[encoded data removed]",
      "text/plain": [
       "<matplotlib.figure.Figure at 0x11efdd3c8>"
      ]
     },
     "metadata": {
      "image/png": {
       "height": 319,
       "width": 355
      }
     },
     "output_type": "display_data"
    }
   ],
   "source": [
    "\"\"\"\n",
    "DON'T MODIFY ANYTHING IN THIS CELL\n",
    "\"\"\"\n",
    "%matplotlib inline\n",
    "%config InlineBackend.figure_format = 'retina'\n",
    "\n",
    "import tensorflow as tf\n",
    "import pickle\n",
    "import helper\n",
    "import random\n",
    "\n",
    "# Set batch size if not already set\n",
    "try:\n",
    "    if batch_size:\n",
    "        pass\n",
    "except NameError:\n",
    "    batch_size = 64\n",
    "\n",
    "save_model_path = './image_classification'\n",
    "n_samples = 4\n",
    "top_n_predictions = 3\n",
    "\n",
    "def test_model():\n",
    "    \"\"\"\n",
    "    Test the saved model against the test dataset\n",
    "    \"\"\"\n",
    "\n",
    "    test_features, test_labels = pickle.load(open('preprocess_training.p', mode='rb'))\n",
    "    loaded_graph = tf.Graph()\n",
    "\n",
    "    with tf.Session(graph=loaded_graph) as sess:\n",
    "        # Load model\n",
    "        loader = tf.train.import_meta_graph(save_model_path + '.meta')\n",
    "        loader.restore(sess, save_model_path)\n",
    "\n",
    "        # Get Tensors from loaded model\n",
    "        loaded_x = loaded_graph.get_tensor_by_name('x:0')\n",
    "        loaded_y = loaded_graph.get_tensor_by_name('y:0')\n",
    "        loaded_keep_prob = loaded_graph.get_tensor_by_name('keep_prob:0')\n",
    "        loaded_logits = loaded_graph.get_tensor_by_name('logits:0')\n",
    "        loaded_acc = loaded_graph.get_tensor_by_name('accuracy:0')\n",
    "        \n",
    "        # Get accuracy in batches for memory limitations\n",
    "        test_batch_acc_total = 0\n",
    "        test_batch_count = 0\n",
    "        \n",
    "        for train_feature_batch, train_label_batch in helper.batch_features_labels(test_features, test_labels, batch_size):\n",
    "            test_batch_acc_total += sess.run(\n",
    "                loaded_acc,\n",
    "                feed_dict={loaded_x: train_feature_batch, loaded_y: train_label_batch, loaded_keep_prob: 1.0})\n",
    "            test_batch_count += 1\n",
    "\n",
    "        print('Testing Accuracy: {}\\n'.format(test_batch_acc_total/test_batch_count))\n",
    "\n",
    "        # Print Random Samples\n",
    "        random_test_features, random_test_labels = tuple(zip(*random.sample(list(zip(test_features, test_labels)), n_samples)))\n",
    "        random_test_predictions = sess.run(\n",
    "            tf.nn.top_k(tf.nn.softmax(loaded_logits), top_n_predictions),\n",
    "            feed_dict={loaded_x: random_test_features, loaded_y: random_test_labels, loaded_keep_prob: 1.0})\n",
    "        helper.display_image_predictions(random_test_features, random_test_labels, random_test_predictions)\n",
    "\n",
    "\n",
    "test_model()"
   ]
  },
  {
   "cell_type": "markdown",
   "metadata": {},
   "source": [
    "## Why 50-70% Accuracy?\n",
    "You might be wondering why you can't get an accuracy any higher. First things first, 50% isn't bad for a simple CNN.  Pure guessing would get you 10% accuracy. However, you might notice people are getting scores [well above 70%](http://rodrigob.github.io/are_we_there_yet/build/classification_datasets_results.html#43494641522d3130).  That's because we haven't taught you all there is to know about neural networks. We still need to cover a few more techniques.\n",
    "## Submitting This Project\n",
    "When submitting this project, make sure to run all the cells before saving the notebook.  Save the notebook file as \"dlnd_image_classification.ipynb\" and save it as a HTML file under \"File\" -> \"Download as\".  Include the \"helper.py\" and \"problem_unittests.py\" files in your submission."
   ]
  }
 ],
 "metadata": {
  "kernelspec": {
   "display_name": "Python 3",
   "language": "python",
   "name": "python3"
  },
  "language_info": {
   "codemirror_mode": {
    "name": "ipython",
    "version": 3
   },
   "file_extension": ".py",
   "mimetype": "text/x-python",
   "name": "python",
   "nbconvert_exporter": "python",
   "pygments_lexer": "ipython3",
   "version": "3.5.3"
  }
 },
 "nbformat": 4,
 "nbformat_minor": 0
}
